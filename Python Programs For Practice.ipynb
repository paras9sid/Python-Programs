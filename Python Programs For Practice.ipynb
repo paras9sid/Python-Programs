{
 "cells": [
  {
   "cell_type": "markdown",
   "id": "926dfa74",
   "metadata": {},
   "source": [
    "#Intro MCQ's."
   ]
  },
  {
   "cell_type": "markdown",
   "id": "57fd4d41",
   "metadata": {},
   "source": [
    "1. What will the following code segment print?\n",
    "print(“Career”)\n",
    "print(“Labs”)"
   ]
  },
  {
   "cell_type": "markdown",
   "id": "e36e5ade",
   "metadata": {},
   "source": [
    "2. What will be the output of the given code segment?\n",
    "a = 10\n",
    "b = 20 \n",
    "multiple = a*b\n",
    "print(\"multiple\")"
   ]
  },
  {
   "cell_type": "markdown",
   "id": "e5a7fc9b",
   "metadata": {},
   "source": [
    "3. What will be the output of the given code segment?\n",
    "a = 10\n",
    "b = 20 \n",
    "multiple = a*b\n",
    "print(multiple)"
   ]
  },
  {
   "cell_type": "markdown",
   "id": "1555f22f",
   "metadata": {},
   "source": [
    "4. What will be the result of following code in Python ?\n",
    "x = 10\n",
    "x = \"abcd\"\n",
    "print(x)"
   ]
  },
  {
   "cell_type": "markdown",
   "id": "4733ee16",
   "metadata": {},
   "source": [
    "5. Consider the python code below -\n",
    "x = \"abcd\"\n",
    "x = 10\n",
    "What is the type of x after the code executes ?"
   ]
  },
  {
   "cell_type": "markdown",
   "id": "32f99e2c",
   "metadata": {},
   "source": [
    "6. Will id1 and id2 have same value?\n",
    "a = 10\n",
    "id1 = id(a)\n",
    "b = a + 2-2\n",
    "id2 = id(b)"
   ]
  },
  {
   "cell_type": "markdown",
   "id": "5cd633e3",
   "metadata": {},
   "source": [
    "7. What will be the output of following statement?\n",
    "print(17//10)"
   ]
  },
  {
   "cell_type": "markdown",
   "id": "ce3299b5",
   "metadata": {},
   "source": [
    "8. What will be the output of following statement?\n",
    "print(17/10)"
   ]
  },
  {
   "cell_type": "markdown",
   "id": "5ac827bd",
   "metadata": {},
   "source": [
    "9. What will be the output of the code if the input provided is 40 and 57 ?\n",
    "a = input()\n",
    "b = input()\n",
    "C = a+b\n",
    "print(C)\n",
    "Note that the double quotes given in the options is to denote that it is a string. It wouldn't appear in the final output."
   ]
  },
  {
   "cell_type": "markdown",
   "id": "6b7dc91c",
   "metadata": {},
   "source": [
    "10. What will be the output of the code if input provided is 40 and 57 ?\n",
    "a =int (input())\n",
    "b= int (input())\n",
    "C = a+b\n",
    "print(C)"
   ]
  },
  {
   "cell_type": "markdown",
   "id": "3d7da783",
   "metadata": {},
   "source": [
    "11. What will be the output of the code if input provided is “abc” and “def”?\n",
    "a = int(input())\n",
    "b=int(input())\n",
    "C = a+b\n",
    "print(C)"
   ]
  }
 ],
 "metadata": {
  "kernelspec": {
   "display_name": "Python 3",
   "language": "python",
   "name": "python3"
  },
  "language_info": {
   "codemirror_mode": {
    "name": "ipython",
    "version": 3
   },
   "file_extension": ".py",
   "mimetype": "text/x-python",
   "name": "python",
   "nbconvert_exporter": "python",
   "pygments_lexer": "ipython3",
   "version": "3.8.8"
  }
 },
 "nbformat": 4,
 "nbformat_minor": 5
}
